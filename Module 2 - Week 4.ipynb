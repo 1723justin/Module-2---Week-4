{
 "cells": [
  {
   "cell_type": "markdown",
   "metadata": {
    "collapsed": true
   },
   "source": [
    "# My Jupyter Notebook on IBM Watson Studio"
   ]
  },
  {
   "cell_type": "markdown",
   "metadata": {},
   "source": [
    "**TAN YU KAI JUSTIN**; Current Occupation: Engineer."
   ]
  },
  {
   "cell_type": "markdown",
   "metadata": {},
   "source": [
    "*I am interested in data science because I love statistical mathematics and would like to delve into data science.*"
   ]
  },
  {
   "cell_type": "markdown",
   "metadata": {},
   "source": [
    "### In the following code, it is a question to ask the user if they love data science. There are two answers. If the user provides \"Yes\" as an input, it will print \"Keep up your passion!\". If the answer is \"No\", the output will be \"Why are you here??\""
   ]
  },
  {
   "cell_type": "code",
   "execution_count": 3,
   "metadata": {},
   "outputs": [
    {
     "name": "stdout",
     "output_type": "stream",
     "text": [
      "Do you love data science? (Yes or No)\n",
      "No\n",
      "Why are you here?\n"
     ]
    }
   ],
   "source": [
    "print (\"Do you love data science? (Yes or No)\")\n",
    "x = input (\"\")\n",
    "if x == \"Yes\":\n",
    "    print (\"Keep up your passion!\")\n",
    "if x == \"No\":\n",
    "    print (\"Why are you here??\")\n",
    "    "
   ]
  },
  {
   "cell_type": "markdown",
   "metadata": {},
   "source": [
    "List\n",
    "+ One\n",
    "- Two\n",
    "* Three\n",
    "\n",
    "Horizontal Rule\n",
    "* * *\n",
    "\n",
    "***\n",
    "\n",
    "*****\n",
    "\n",
    "> ## Blockquoted header\n",
    ">\n",
    "> This is blockquoted text.\n",
    ">\n",
    "> This is a second paragraph within the blockquoted text."
   ]
  },
  {
   "cell_type": "code",
   "execution_count": null,
   "metadata": {},
   "outputs": [],
   "source": []
  }
 ],
 "metadata": {
  "kernelspec": {
   "display_name": "Python 3.9",
   "language": "python",
   "name": "python3"
  },
  "language_info": {
   "codemirror_mode": {
    "name": "ipython",
    "version": 3
   },
   "file_extension": ".py",
   "mimetype": "text/x-python",
   "name": "python",
   "nbconvert_exporter": "python",
   "pygments_lexer": "ipython3",
   "version": "3.9.12"
  }
 },
 "nbformat": 4,
 "nbformat_minor": 1
}
